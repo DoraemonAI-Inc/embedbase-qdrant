{
 "cells": [
  {
   "cell_type": "code",
   "execution_count": 1,
   "metadata": {},
   "outputs": [
    {
     "data": {
      "text/plain": [
       "<OpenAIObject list at 0x7f3b8004a3e0> JSON: {\n",
       "  \"data\": [\n",
       "    {\n",
       "      \"scale_settings\": {\n",
       "        \"scale_type\": \"standard\"\n",
       "      },\n",
       "      \"model\": \"text-embedding-ada-002\",\n",
       "      \"owner\": \"organization-owner\",\n",
       "      \"id\": \"ada002-1\",\n",
       "      \"status\": \"succeeded\",\n",
       "      \"created_at\": 1694591112,\n",
       "      \"updated_at\": 1694591112,\n",
       "      \"object\": \"deployment\"\n",
       "    },\n",
       "    {\n",
       "      \"scale_settings\": {\n",
       "        \"scale_type\": \"standard\"\n",
       "      },\n",
       "      \"model\": \"gpt-35-turbo\",\n",
       "      \"owner\": \"organization-owner\",\n",
       "      \"id\": \"gpt-gpt35-1\",\n",
       "      \"status\": \"succeeded\",\n",
       "      \"created_at\": 1694591175,\n",
       "      \"updated_at\": 1694591175,\n",
       "      \"object\": \"deployment\"\n",
       "    }\n",
       "  ],\n",
       "  \"object\": \"list\"\n",
       "}"
      ]
     },
     "execution_count": 1,
     "metadata": {},
     "output_type": "execute_result"
    }
   ],
   "source": [
    "from embedbase.settings import get_settings_from_file\n",
    "settings = get_settings_from_file()\n",
    "\n",
    "import openai\n",
    "\n",
    "openai.api_type = settings.api_type\n",
    "openai.api_key = settings.azure_api_key\n",
    "openai.api_base = settings.azure_api_base\n",
    "openai.api_version = settings.azure_api_version\n",
    "deployment_id = settings.azure_deployment_id\n",
    "openai.Deployment.list()"
   ]
  },
  {
   "cell_type": "code",
   "execution_count": 2,
   "metadata": {},
   "outputs": [
    {
     "data": {
      "text/plain": [
       "1536"
      ]
     },
     "execution_count": 2,
     "metadata": {},
     "output_type": "execute_result"
    }
   ],
   "source": [
    "embeddings = openai.Embedding.create(deployment_id=deployment_id,\n",
    "                                     input=\"Hello World\")\n",
    "len(embeddings['data'][0]['embedding'])"
   ]
  },
  {
   "cell_type": "code",
   "execution_count": 3,
   "metadata": {},
   "outputs": [
    {
     "name": "stdout",
     "output_type": "stream",
     "text": [
      "ada002-1\n"
     ]
    },
    {
     "data": {
      "text/plain": [
       "1536"
      ]
     },
     "execution_count": 3,
     "metadata": {},
     "output_type": "execute_result"
    }
   ],
   "source": [
    "from embedbase.embedding.openai import OpenAI\n",
    "openai = OpenAI(settings=settings)\n",
    "print(openai.deployment_id)\n",
    "len((await openai.embed(\"Hello World\"))[0])"
   ]
  },
  {
   "cell_type": "code",
   "execution_count": 4,
   "metadata": {},
   "outputs": [
    {
     "name": "stdout",
     "output_type": "stream",
     "text": [
      "Qdrant collections: set()\n"
     ]
    },
    {
     "data": {
      "text/plain": [
       "[]"
      ]
     },
     "execution_count": 4,
     "metadata": {},
     "output_type": "execute_result"
    }
   ],
   "source": [
    "from embedbase.database.qdrant_db import Qdrant\n",
    "qdb = Qdrant(url=settings.qdrant_url, api_key=settings.qdrant_api_key)\n",
    "await qdb.get_datasets()"
   ]
  },
  {
   "cell_type": "code",
   "execution_count": 5,
   "metadata": {},
   "outputs": [
    {
     "name": "stderr",
     "output_type": "stream",
     "text": [
      "2023-10-05 17:41:01,494 - embedbase - INFO - Enabling Embedder <embedbase.embedding.openai.OpenAI object at 0x7f3b80037cd0>\n",
      "2023-10-05 17:41:01,496 - embedbase - INFO - Enabling Database <embedbase.database.qdrant_db.Qdrant object at 0x7f3bf82d6560>\n"
     ]
    },
    {
     "name": "stdout",
     "output_type": "stream",
     "text": [
      "\n",
      "                 _           _   _         _               _          _         \n",
      "        /\\ \\        /\\_\\/\\_\\ _    / /\\            /\\ \\       /\\ \\       \n",
      "       /  \\ \\      / / / / //\\_\\ / /  \\          /  \\ \\     /  \\ \\____  \n",
      "      / /\\ \\ \\    /\\ \\/ \\ \\/ / // / /\\ \\        / /\\ \\ \\   / /\\ \\_____\\ \n",
      "     / / /\\ \\_\\  /  \\____\\__/ // / /\\ \\ \\      / / /\\ \\_\\ / / /\\/___  / \n",
      "    / /_/_ \\/_/ / /\\/________// / /\\ \\_\\ \\    / /_/_ \\/_// / /   / / /  \n",
      "   / /____/\\   / / /\\/_// / // / /\\ \\ \\___\\  / /____/\\  / / /   / / /   \n",
      "  / /\\____\\/  / / /    / / // / /  \\ \\ \\__/ / /\\____\\/ / / /   / / /    \n",
      " / / /______ / / /    / / // / /____\\_\\ \\  / / /______ \\ \\ \\__/ / /     \n",
      "/ / /_______\\/_/    / / // / /__________\\/ / /_______\\ \\ \\___\\/ /      \n",
      "\\/__________/ _      \\/_/ \\/_____________/\\/__________/  \\/_____/       \n",
      "             / /\\            / /\\               / /\\         /\\ \\       \n",
      "            / /  \\          / /  \\             / /  \\       /  \\ \\      \n",
      "           / / /\\ \\        / / /\\ \\           / / /\\ \\__   / /\\ \\ \\     \n",
      "          / / /\\ \\ \\      / / /\\ \\ \\         / / /\\ \\___\\ / / /\\ \\_\\    \n",
      "         / / /\\ \\_\\ \\    / / /  \\ \\ \\        \\ \\ \\ \\/___// /_/_ \\/_/    \n",
      "        / / /\\ \\ \\___\\  / / /___/ /\\ \\        \\ \\ \\     / /____/\\       \n",
      "       / / /  \\ \\ \\__/ / / /_____/ /\\ \\   _    \\ \\ \\   / /\\____\\/       \n",
      "      / / /____\\_\\ \\  / /_________/\\ \\ \\ /_/\\__/ / /  / / /______       \n",
      "     / / /__________\\/ / /_       __\\ \\_\\ \\/___/ /  / / /_______\\      \n",
      "     \\/_____________/\\_\\___\\     /____/_/ \\_____\\/   \\/__________/      \n",
      "                                                                                                \n",
      "                 [-0.005, 0.012, -0.008, ..., -0.010]\n",
      "\n"
     ]
    }
   ],
   "source": [
    "from embedbase import get_app\n",
    "\n",
    "# here we use openai to create embeddings and qdrant to store the data\n",
    "app = get_app(settings).use_embedder(openai).use_db(qdb).run()"
   ]
  },
  {
   "cell_type": "code",
   "execution_count": null,
   "metadata": {},
   "outputs": [],
   "source": [
    "import uvicorn\n",
    "uvicorn.run(app)"
   ]
  }
 ],
 "metadata": {
  "kernelspec": {
   "display_name": "embedbase",
   "language": "python",
   "name": "python3"
  },
  "language_info": {
   "codemirror_mode": {
    "name": "ipython",
    "version": 3
   },
   "file_extension": ".py",
   "mimetype": "text/x-python",
   "name": "python",
   "nbconvert_exporter": "python",
   "pygments_lexer": "ipython3",
   "version": "3.10.13"
  },
  "orig_nbformat": 4
 },
 "nbformat": 4,
 "nbformat_minor": 2
}
